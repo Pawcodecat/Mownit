{
 "cells": [
  {
   "cell_type": "markdown",
   "metadata": {},
   "source": [
    "<h3 align=\"center\">Paweł Kocimski </h3>\n",
    "<h5 align=\"center\">Metody Obliczeniowe w Nauce i Technice </h5>\n",
    "<h6 align=\"center\">Lab 8 PageRank</h6>\n",
    "\n"
   ]
  },
  {
   "cell_type": "markdown",
   "metadata": {},
   "source": [
    "<h6>Prosty ranking wierzchołków</h6>\n",
    "Zaimplementuj prosty model błądzenia przypadkowego po grafie skierowanym:\n"
   ]
  },
  {
   "cell_type": "markdown",
   "metadata": {},
   "source": [
    "$$r(u)=d\\sum_{v\\in{B}_{u}} \\frac{r(v)}{{N}_{v}}$$"
   ]
  },
  {
   "cell_type": "code",
   "execution_count": 149,
   "metadata": {},
   "outputs": [],
   "source": [
    "import numpy as np\n",
    "\n",
    "def random_walk(A, num_multiplications: int):\n",
    "\n",
    "    eigen_vec = np.random.rand(A.shape[1])\n",
    "    c = 0.5\n",
    "    A = c*A\n",
    "    \n",
    "    for _ in range(num_multiplications):\n",
    "        eigen_vec_2 = np.dot(A, eigen_vec) \n",
    "        eigen_vec = eigen_vec_2\n",
    "        \n",
    "    eigen_vec_2_norm = np.linalg.norm(eigen_vec_2)\n",
    "    eigen_vec = eigen_vec_2 / eigen_vec_2_norm\n",
    "    \n",
    "    return eigen_vec\n",
    "\n"
   ]
  },
  {
   "cell_type": "code",
   "execution_count": 150,
   "metadata": {},
   "outputs": [
    {
     "name": "stdout",
     "output_type": "stream",
     "text": [
      "[0.37372706 0.34123664 0.28139579 0.14490733 0.26728107 0.34738584\n",
      " 0.34951124 0.30276302 0.29097548 0.39127681]\n",
      "[0.31622777 0.31622777 0.31622777 0.31622777 0.31622777 0.31622777\n",
      " 0.31622777 0.31622777 0.31622777 0.31622777]\n",
      "[0.30392867 0.28999239 0.25170419 0.33637457 0.3252331  0.3653119\n",
      " 0.4108201  0.31261288 0.25413827 0.27697176]\n"
     ]
    }
   ],
   "source": [
    "def test_random_walk():\n",
    "    A = np.array([[0,0.5,0,0,0,0.5,0,0,0,0],\n",
    "                 [0,0,0.5,0,0,0.5,0,0,0,0],\n",
    "                 [0.5,0,0,0.5,0,0,0,0,0,0],\n",
    "                 [0,0,0,0,0.5,0,0,0,0,0],\n",
    "                 [0,0,0,0.5,0,0.5,0,0,0,0],\n",
    "                 [0,0,0,0,0,0,0.5,0,0.5,0],\n",
    "                 [0,0.5,0,0,0,0,0,0.5,0,0],\n",
    "                 [0,0,0,0,0.5,0,0,0,0.5,0],\n",
    "                 [0,0,0,0.5,0,0,0,0,0,0.5],\n",
    "                 [0.5,0,0,0,0,0.5,0,0,0,0]])\n",
    "    print(random_walk(A, 20))\n",
    "    B = np.array([[0.1,0.1,0.1,0.1,0.1,0.1,0.1,0.1,0.1,0.1],\n",
    "                   [0.1,0.1,0.1,0.1,0.1,0.1,0.1,0.1,0.1,0.1],\n",
    "                   [0.1,0.1,0.1,0.1,0.1,0.1,0.1,0.1,0.1,0.1],\n",
    "                   [0.1,0.1,0.1,0.1,0.1,0.1,0.1,0.1,0.1,0.1],\n",
    "                   [0.1,0.1,0.1,0.1,0.1,0.1,0.1,0.1,0.1,0.1],\n",
    "                   [0.1,0.1,0.1,0.1,0.1,0.1,0.1,0.1,0.1,0.1],\n",
    "                   [0.1,0.1,0.1,0.1,0.1,0.1,0.1,0.1,0.1,0.1],\n",
    "                   [0.1,0.1,0.1,0.1,0.1,0.1,0.1,0.1,0.1,0.1],\n",
    "                   [0.1,0.1,0.1,0.1,0.1,0.1,0.1,0.1,0.1,0.1],\n",
    "                   [0.1,0.1,0.1,0.1,0.1,0.1,0.1,0.1,0.1,0.1],\n",
    "                 ])\n",
    "    print(random_walk(B, 20))\n",
    "    C = np.array([[0,0.33,0,0,0.33,0,0,0.33,0,0],\n",
    "                     [0,0,0.2,0,0,0.2,0,0.2,0.2,0.2],\n",
    "                     [0,0,0,0.25,0,0.25,0,0.25,0,0],\n",
    "                     [0,0,0,0,0.25,0.25,0.25,0,0.25,0],\n",
    "                     [0,0.5,0,0,0,0.5,0,0,0,0],\n",
    "                     [0,0,0,0,0.5,0,0.5,0,0,0],\n",
    "                     [0,0,0,0,0,0.25,0.25,0.5,0.25,0],\n",
    "                     [0.25,0,0,0.25,0,0.25,0,0,0.25,0],\n",
    "                     [0,0,0,0,0.2,0.2,0,0.2,0,0.2],\n",
    "                     [0.5,0,0,0,0,0,0,0,0.5,0]])\n",
    "    print(random_walk(C, 20))\n",
    "test_random_walk()"
   ]
  },
  {
   "cell_type": "markdown",
   "metadata": {},
   "source": [
    "<h6>Page Rank</h6>\n",
    "Rozszerz model z poprzedniego zadania, dodając możliwość skoku do losowego wierz-\n",
    "chołka grafu:"
   ]
  },
  {
   "cell_type": "markdown",
   "metadata": {},
   "source": [
    "$$r(u)=d\\sum_{v\\in{B}_{u}} \\frac{r(v)}{{N}_{v}} +(1-d)e(u)$$\n"
   ]
  },
  {
   "cell_type": "code",
   "execution_count": 151,
   "metadata": {},
   "outputs": [],
   "source": [
    "def page_rank(A, e, epsilon, c):\n",
    "\n",
    "    eigen_vec = np.random.rand(A.shape[1])\n",
    "    A = c*A\n",
    "    \n",
    "    \n",
    "    condition = True\n",
    "    while condition:\n",
    "        eigen_vec_2 = np.dot(A, eigen_vec)\n",
    "        d = np.sum(eigen_vec) - np.sum(eigen_vec_2)\n",
    "        eigen_vec_2 = eigen_vec_2 + (d * e)\n",
    "        sigma = np.sum(np.subtract(eigen_vec_2, eigen_vec))\n",
    "        condition = sigma > epsilon\n",
    "        eigen_vec = eigen_vec_2\n",
    "    \n",
    "        \n",
    "    eigen_vec_2_norm = np.linalg.norm(eigen_vec_2)\n",
    "    eigen_vec = eigen_vec_2 / eigen_vec_2_norm\n",
    "\n",
    "    return eigen_vec\n"
   ]
  },
  {
   "cell_type": "code",
   "execution_count": 169,
   "metadata": {},
   "outputs": [
    {
     "data": {
      "text/plain": [
       "array([[0. , 0.1, 0.1, ..., 0. , 0. , 0. ],\n",
       "       [0. , 0. , 0. , ..., 0. , 0. , 0. ],\n",
       "       [0. , 0. , 0. , ..., 0. , 0. , 0. ],\n",
       "       ...,\n",
       "       [0. , 0. , 0. , ..., 0. , 0. , 0. ],\n",
       "       [0. , 0. , 0. , ..., 0. , 0. , 0. ],\n",
       "       [0. , 0. , 0. , ..., 0. , 0. , 0. ]])"
      ]
     },
     "execution_count": 169,
     "metadata": {},
     "output_type": "execute_result"
    }
   ],
   "source": [
    "def read_gnutella8():\n",
    "    file1 = open('p2p-Gnutella08.txt', 'r') \n",
    "    Lines = file1.readlines() \n",
    "    gnutella = np.zeros((6301,6301))\n",
    "\n",
    "    count = 0\n",
    "   \n",
    "    for line in Lines: \n",
    "        count +=1\n",
    "        if(count >= 5):\n",
    "            splited = line.split('\\t')\n",
    "            row = int(splited[0])\n",
    "            column = int(splited[1])\n",
    "            gnutella[row][column] = 1 \n",
    "    \n",
    "    for row in range(gnutella.shape[0]):\n",
    "        sum_row = sum(gnutella[row])\n",
    "        if(sum_row != 0):\n",
    "            for i in range(gnutella.shape[0]):\n",
    "                gnutella[row][i] /= sum_row\n",
    "    \n",
    "    return gnutella\n",
    "    \n",
    "    \n",
    "        \n",
    "read_gnutella8()"
   ]
  },
  {
   "cell_type": "code",
   "execution_count": 170,
   "metadata": {},
   "outputs": [
    {
     "data": {
      "text/plain": [
       "array([[0. , 0.1, 0.1, ..., 0. , 0. , 0. ],\n",
       "       [0. , 0. , 0. , ..., 0. , 0. , 0. ],\n",
       "       [0. , 0. , 0. , ..., 0. , 0. , 0. ],\n",
       "       ...,\n",
       "       [0. , 0. , 0. , ..., 0. , 0. , 0.2],\n",
       "       [0. , 0. , 0. , ..., 0. , 0. , 0. ],\n",
       "       [0. , 0. , 0. , ..., 0. , 0. , 0. ]])"
      ]
     },
     "execution_count": 170,
     "metadata": {},
     "output_type": "execute_result"
    }
   ],
   "source": [
    "def read_gnutella9():\n",
    "    file1 = open('p2p-Gnutella09.txt', 'r') \n",
    "    Lines = file1.readlines() \n",
    "    gnutella = np.zeros((8114,8114))\n",
    "    count = 0\n",
    "\n",
    "    for line in Lines: \n",
    "        count += 1\n",
    "        if(count >= 5):\n",
    "            splited = line.split('\\t')   \n",
    "            row = int(splited[0])\n",
    "            column = int(splited[1])\n",
    "            gnutella[row][column] = 1 \n",
    "            \n",
    "    \n",
    "    for row in range(gnutella.shape[0]):\n",
    "        sum_row = sum(gnutella[row])\n",
    "        if(sum_row != 0):\n",
    "            for i in range(gnutella.shape[0]):\n",
    "                gnutella[row][i] /= sum_row\n",
    "                \n",
    "    return gnutella\n",
    "\n",
    "read_gnutella9()"
   ]
  },
  {
   "cell_type": "code",
   "execution_count": 171,
   "metadata": {},
   "outputs": [
    {
     "name": "stdout",
     "output_type": "stream",
     "text": [
      "[[0.01586993 0.00984567 0.00035583 ... 0.01007556 0.0024574  0.00081789]]\n",
      "[[0.00052431 0.         0.         ... 0.         0.         0.        ]]\n",
      "[[0.02005959 0.00701793 0.00766049 ... 0.0067199  0.00768772 0.00756953]]\n",
      "[[0.01926633 0.01008476 0.00036447 ... 0.01032024 0.00251708 0.00083775]]\n",
      "[[0.00052366 0.         0.         ... 0.         0.         0.        ]]\n",
      "[[0.0183888  0.00714353 0.00779759 ... 0.00684017 0.00782531 0.007705  ]]\n",
      "[[0.01760401 0.01065748 0.00038517 ... 0.01090633 0.00266002 0.00088533]]\n",
      "[[0.00033793 0.         0.         ... 0.         0.         0.        ]]\n",
      "[[0.01884788 0.00777824 0.0084904  ... 0.00744792 0.00852059 0.00838958]]\n",
      "[[0.01625287 0.01140556 0.0004122  ... 0.01167187 0.00284674 0.00094747]]\n",
      "[[0.00036513 0.         0.         ... 0.         0.         0.        ]]\n",
      "[[0.01533423 0.00852984 0.00931082 ... 0.0081676  0.00934393 0.00920026]]\n",
      "[[0.01709421 0.01187277 0.00042909 ... 0.01215    0.00296335 0.00098629]]\n",
      "[[0.00024762 0.         0.         ... 0.         0.         0.        ]]\n",
      "[[0.01658422 0.0091467  0.00998416 ... 0.00875827 0.01001966 0.00986561]]\n",
      "[[0.01335884 0.00273039 0.00065749 ... 0.01269942 0.00582251 0.00282571]]\n",
      "[[0.00066513 0.         0.         ... 0.00043993 0.         0.        ]]\n",
      "[[0.01245515 0.00675327 0.00659184 ... 0.01145542 0.00684249 0.00647764]]\n",
      "[[0.01454271 0.00282374 0.00067997 ... 0.01210393 0.00602157 0.00292231]]\n",
      "[[0.00073712 0.         0.         ... 0.00038507 0.         0.        ]]\n",
      "[[0.01792348 0.00694264 0.00677668 ... 0.01517383 0.00703436 0.00665927]]\n",
      "[[0.01510612 0.00296828 0.00071477 ... 0.00803072 0.00632979 0.0030719 ]]\n",
      "[[0.00040962 0.         0.         ... 0.00036371 0.         0.        ]]\n",
      "[[0.01729557 0.00754497 0.00736461 ... 0.01790766 0.00764464 0.00723702]]\n",
      "[[0.01269549 0.00315142 0.00075887 ... 0.00909453 0.00672034 0.00326143]]\n",
      "[[0.00047105 0.         0.         ... 0.00036017 0.         0.        ]]\n",
      "[[0.0156664  0.00828289 0.00808488 ... 0.01415109 0.00839231 0.00794481]]\n",
      "[[0.01265955 0.00328546 0.00079115 ... 0.00645417 0.00700618 0.00340015]]\n",
      "[[0.00030844 0.         0.         ... 0.00042921 0.         0.        ]]\n",
      "[[0.01364436 0.00880825 0.00859768 ... 0.01344929 0.00892461 0.00844873]]\n"
     ]
    }
   ],
   "source": [
    "def test_page_rank():\n",
    "    gnutella8 = read_gnutella8()\n",
    "    gnutella9 = read_gnutella9()\n",
    "    c_arr = [0.9, 0.85, 0.75, 0.6, 0.5]\n",
    "    \n",
    "    e8_1 = np.random.dirichlet(np.ones(gnutella8.shape[1]),size=1)\n",
    "    e8_2 = np.random.dirichlet(np.ones(gnutella8.shape[1])/1000,size=1)\n",
    "    e8_3 = np.random.dirichlet(np.ones(gnutella8.shape[1])*1000,size=1)\n",
    "    e8 = [e8_1, e8_2, e8_3]\n",
    "    \n",
    "    e9_1 = np.random.dirichlet(np.ones(gnutella9.shape[1]),size=1)\n",
    "    e9_2 = np.random.dirichlet(np.ones(gnutella9.shape[1])/1000,size=1)\n",
    "    e9_3 = np.random.dirichlet(np.ones(gnutella9.shape[1])*1000,size=1)\n",
    "    e9 = [e9_1, e9_2, e9_3]\n",
    "    \n",
    "    np.set_printoptions(suppress=True)\n",
    "    \n",
    "    for c in c_arr:\n",
    "        for e in e8:\n",
    "            print(page_rank(gnutella8, e,10e-1,c))\n",
    "            \n",
    "    for c in c_arr:\n",
    "        for e in e9:\n",
    "            print(page_rank(gnutella9, e,10e-1,c))\n",
    "        \n",
    "test_page_rank()\n"
   ]
  },
  {
   "cell_type": "markdown",
   "metadata": {},
   "source": [
    "<h6>Wnioski</h6>\n",
    "1.Bładzenie losowe szereguje strony internetowe<br>\n",
    "2.Algorytm PageRank pozwala również uszeregować strony internetowe<br>\n",
    "3.PageRank pozwala wykorzystać możliwość skoku do losowego wierzchołka, co wpływa na uporządkowanie stron<br>\n"
   ]
  },
  {
   "cell_type": "code",
   "execution_count": null,
   "metadata": {},
   "outputs": [],
   "source": []
  }
 ],
 "metadata": {
  "kernelspec": {
   "display_name": "Python 3",
   "language": "python",
   "name": "python3"
  },
  "language_info": {
   "codemirror_mode": {
    "name": "ipython",
    "version": 3
   },
   "file_extension": ".py",
   "mimetype": "text/x-python",
   "name": "python",
   "nbconvert_exporter": "python",
   "pygments_lexer": "ipython3",
   "version": "3.7.4"
  }
 },
 "nbformat": 4,
 "nbformat_minor": 2
}
