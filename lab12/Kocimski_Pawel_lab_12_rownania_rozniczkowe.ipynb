{
 "cells": [
  {
   "cell_type": "markdown",
   "metadata": {},
   "source": [
    "<h2 align=\"center\">Paweł Kocimski </h2>\n",
    "<h3 align=\"center\">Metody Obliczeniowe w Nauce i Technice </h3>\n",
    "<h4 align=\"center\">Lab 12 Równania różniczkowe</h4>"
   ]
  },
  {
   "cell_type": "markdown",
   "metadata": {},
   "source": [
    "<h6>Zadanie 1 Metoda Rungego-Kutty</h6>"
   ]
  },
  {
   "cell_type": "markdown",
   "metadata": {},
   "source": [
    "Zaimplementuj metodę Rungego-Kutty czwartego rzędu (rozdział 10.2, Kincaid i Cheney), a następnie:\n"
   ]
  },
  {
   "cell_type": "code",
   "execution_count": 30,
   "metadata": {},
   "outputs": [
    {
     "name": "stdout",
     "output_type": "stream",
     "text": [
      " 0.0     1.0000 \n",
      " 0.2     1.1073 \n",
      " 0.4     1.2283 \n",
      " 0.6     1.3622 \n",
      " 0.8     1.5083 \n",
      " 1.0     1.6659 \n",
      " 1.2     1.8347 \n",
      " 1.4     2.0142 \n",
      " 1.6     2.2041 \n",
      " 1.8     2.4042 \n",
      " 2.0     2.6141 \n"
     ]
    }
   ],
   "source": [
    "import numpy as np\n",
    "\n",
    "def runge_kutta_order_4(f, a, alfa, b, n):\n",
    "    vx = np.zeros(n+1)\n",
    "    vy = np.zeros(n+1)\n",
    "    h = (b - a) / float(n)\n",
    "    vx[0] = x = a\n",
    "    vy[0] = w = alfa\n",
    "    for i in range(1, n + 1):\n",
    "        k1 = h * f(x, w)\n",
    "        k2 = h * f(x + 0.5 * h, w + 0.5 * k1)\n",
    "        k3 = h * f(x + 0.5 * h, w + 0.5 * k2)\n",
    "        k4 = h * f(x + h, w + k3)\n",
    "        vx[i] = x = a + i * h\n",
    "        vy[i] = w = w + (k1 + k2 + k2 + k3 + k3 + k4) / 6\n",
    "    return vx, vy\n",
    "\n",
    "\n",
    "\n",
    "def f(x, y):\n",
    "    return (np.sqrt((x+y))/2)\n",
    "\n",
    "\n",
    "vx, vy = runge_kutta_oroder_4(f, 0, 1, 2, 100)\n",
    "for x, y in list(zip(vx, vy))[::10]:\n",
    "    print(\"%4.1f %10.4f \" % (x, y))"
   ]
  },
  {
   "cell_type": "markdown",
   "metadata": {},
   "source": [
    "1. Opisz zalety metody Rungego-Kutty w porównaniu do metody z szeregami Taylora."
   ]
  },
  {
   "cell_type": "markdown",
   "metadata": {},
   "source": [
    "a)W metodzie Rungego-Kutty nie trzeba wielokrotnie różniczkować funkcję f<br>\n",
    "b)w metodzie szeregów Taylora odpowiednie pochodne muszą istnieć w obszarze, przez który przechodzi szukane rozwiązanie<br>\n",
    "c)różniczkując analitycznie w metedzie z szeregami Taylora, ewentualny błąd jaki popełniamy nie będzie wykryty w obliczeniach numerycznych<br>\n"
   ]
  },
  {
   "cell_type": "markdown",
   "metadata": {},
   "source": [
    "2. Rozwiąż zagadnienie początkowe dane równaniem $x' = x/t + t sec(x/t)$ z warunkiem początkowym $x(0) = 0$. Przedłuż rozwiązanie do $t = 1$ z krokiem $h = {2}^{−7}$ .Porównaj wynik z dokładnym rozwiązaniem: $x(t) = t ∗ arc sin(t)$."
   ]
  },
  {
   "cell_type": "code",
   "execution_count": 38,
   "metadata": {},
   "outputs": [
    {
     "name": "stdout",
     "output_type": "stream",
     "text": [
      "t\tfunction x\tx\n",
      "0.00     0.0078     0.0000\n",
      "0.08     0.0823     0.0061\n",
      "0.16     0.1715     0.0245\n",
      "0.23     0.2684     0.0554\n",
      "0.31     0.3733     0.0993\n",
      "0.39     0.4865     0.1568\n",
      "0.47     0.6084     0.2287\n",
      "0.55     0.7395     0.3164\n",
      "0.62     0.8805     0.4220\n",
      "0.70     1.0320     0.5483\n",
      "0.78     1.1948     0.7005\n",
      "0.86     1.3697     0.8886\n",
      "0.94     1.5575     1.1394\n"
     ]
    }
   ],
   "source": [
    "from sympy import *\n",
    "\n",
    "def runge_kutta_order_4(f, a, alfa, b, n):\n",
    "    vx = np.zeros(n+1)\n",
    "    vy = np.zeros(n+1)\n",
    "    h = (b - a) / float(n)\n",
    "    vx[0] = x = a\n",
    "    vy[0] = w = alfa\n",
    "    for i in range(1, n + 1):\n",
    "        k1 = h * f(x, w)\n",
    "        k2 = h * f(x + 0.5 * h, w + 0.5 * k1)\n",
    "        k3 = h * f(x + 0.5 * h, w + 0.5 * k2)\n",
    "        k4 = h * f(x + h, w + k3)\n",
    "        vx[i] = x = a + i * h\n",
    "        vy[i] = w = w + (k1 + k2 + k2 + k3 + k3 + k4) / 6\n",
    "    return vx, vy\n",
    "\n",
    "\n",
    "def f2(x, t):\n",
    "    return (x/t + t * sec(x/t))\n",
    "\n",
    "def test_func():\n",
    "    vx, vy = runge_kutta_order_4(f2, 0, 0 + 2**-7, 1, 2**7)\n",
    "    print(\"t\\tfunction x\\tx\")\n",
    "    for t, x in list(zip(vx, vy))[::10]:\n",
    "        print(\"%4.2f %10.4f %10.4f\" % (t, x, t * np.arcsin(t)))\n",
    "test_func()"
   ]
  },
  {
   "cell_type": "markdown",
   "metadata": {},
   "source": [
    "<h6>Wnioski</h6>\n",
    "1.Wynik odbiega nieco od wartości funkcji poznieważ dodałem do początkowego elementu ${2}^{-7}$. Dodanie takiej wartosci było spowodowane tym, że w funkcji $x' = x/t + t sec(x/t)$ występuje t w mianowniku, a wykorzystując metode Rungego-Kutty nie można podstawić warunku $f(0) = 0$"
   ]
  },
  {
   "cell_type": "markdown",
   "metadata": {},
   "source": [
    "3. Używając tej samej metody rozwiąż zagadnienie początkowe dane równaniem x 0 =\n",
    "100(sin(t) − x) z warunkiem początkowym x(0) = 0 na przedziale [0, 3] używając\n",
    "kroków o rozmiarach h = 0.015, 0.02, 0.025, 0.03. Opisz z czego wynikają różnice w\n",
    "rozwiązaniach."
   ]
  },
  {
   "cell_type": "code",
   "execution_count": 9,
   "metadata": {},
   "outputs": [
    {
     "name": "stdout",
     "output_type": "stream",
     "text": [
      "h = 0.015\n",
      "0.00     0.0000\n",
      "0.30    -3.4354\n",
      "0.60    -3.7699\n",
      "0.90    -4.2179\n",
      "1.20   -11.2619\n",
      "1.50   -38.5499\n",
      "1.80   -79.1654\n",
      "2.10  -129.9662\n",
      "2.40  -191.4372\n",
      "2.70  -262.5171\n",
      "3.00  -343.9887\n",
      "\n",
      "h = 0.020\n",
      "0.00     0.0000\n",
      "0.40    -3.5414\n",
      "0.80    -4.0432\n",
      "1.20   -11.5249\n",
      "1.60   -53.9678\n",
      "2.00  -117.3248\n",
      "2.40  -199.7155\n",
      "2.80  -300.8699\n",
      "3.00  -363.3636\n",
      "\n",
      "h = 0.025\n",
      "0.00     0.0000\n",
      "0.50    -3.6522\n",
      "1.00    -4.4614\n",
      "1.50   -42.8956\n",
      "2.00  -122.3349\n",
      "2.50  -237.6419\n",
      "3.00  -371.8191\n",
      "\n",
      "h = 0.030\n",
      "0.00     0.0000\n",
      "0.60    -3.7591\n",
      "1.20   -16.8351\n",
      "1.80   -94.2717\n",
      "2.40  -214.9631\n",
      "3.00  -385.1500\n",
      "\n"
     ]
    }
   ],
   "source": [
    "def f3(x, t):\n",
    "    return (100*(sin(t)-x))\n",
    "\n",
    "\n",
    "def test_func():\n",
    "    for no_of_parts in 200, 150, 120, 100:\n",
    "        vx, vy = runge_kutta_oroder_4(f3, 0, 0, 3, no_of_parts)\n",
    "        print(\"h = %1.3f\" % (float(3/no_of_parts)))\n",
    "        for x, y in list(zip(vx, vy))[::20]:\n",
    "            print(\"%4.2f %10.4f\" % (x, y))\n",
    "        if(no_of_parts == 150): print(\"%4.2f %10.4f\" % (vx[150], vy[150]))\n",
    "        print(\"\")\n",
    "        \n",
    "test_func()"
   ]
  },
  {
   "cell_type": "markdown",
   "metadata": {},
   "source": [
    "<h6>Wnioski</h6>\n",
    "1.Różnicę w otrzymanych przedziałach wynikają z długości dobranego przedziału ponieważ całkowity błąd obcięcia w metodzie RK IV rzędu jest $O({h}^{4})$."
   ]
  },
  {
   "cell_type": "markdown",
   "metadata": {},
   "source": [
    "<h6>Zadanie 2 Adaptacyjna metoda Rungego-Kutty-Fehlberga</h6>\n",
    "Zaimplementuj adaptacyjną metodę Rungego-Kutty-Fehlberga (rozdział 10.3, Kincaid\n",
    "i Cheney) i użyj jej do rozwiązania zagadnienia początkowego: ${x}_{0} = 3x/t + 9t/2 − 13$\n",
    "z warunkiem brzegowym $x(3) = 6$ w punkcie $x(1/2)$ z dokładnością do 9 miejsc po\n",
    "przecinku. Porównaj wynik z rozwiązaniem analitycznym $x = {t}^{3} − 9/2{t}^{2} + 13/2t$. W jaki\n",
    "sposób metoda adaptacyjna pozwala nam zwiększyć dokładność rozwiązania? Jakie są\n",
    "tego wady?"
   ]
  },
  {
   "cell_type": "code",
   "execution_count": 12,
   "metadata": {},
   "outputs": [],
   "source": [
    "def runge_kutta_fehlberg(f, a, b, x0, tol, h_max, h_min):\n",
    "    a2 = 2.500000000000000e-01  # 1/4\n",
    "    a3 = 3.750000000000000e-01  # 3/8\n",
    "    a4 = 9.230769230769231e-01  # 12/13\n",
    "    a5 = 1.000000000000000e+00  # 1\n",
    "    a6 = 5.000000000000000e-01  # 1/2\n",
    "\n",
    "    b21 = 2.500000000000000e-01  # 1/4\n",
    "    b31 = 9.375000000000000e-02  # 3/32\n",
    "    b32 = 2.812500000000000e-01  # 9/32\n",
    "    b41 = 8.793809740555303e-01  # 1932/2197\n",
    "    b42 = -3.277196176604461e+00  # -7200/2197\n",
    "    b43 = 3.320892125625853e+00  # 7296/2197\n",
    "    b51 = 2.032407407407407e+00  # 439/216\n",
    "    b52 = -8.000000000000000e+00  # -8\n",
    "    b53 = 7.173489278752436e+00  # 3680/513\n",
    "    b54 = -2.058966861598441e-01  # -845/4104\n",
    "    b61 = -2.962962962962963e-01  # -8/27\n",
    "    b62 = 2.000000000000000e+00  # 2\n",
    "    b63 = -1.381676413255361e+00  # -3544/2565\n",
    "    b64 = 4.529727095516569e-01  # 1859/4104\n",
    "    b65 = -2.750000000000000e-01  # -11/40\n",
    "\n",
    "    r1 = 2.777777777777778e-03  # 1/360\n",
    "    r3 = -2.994152046783626e-02  # -128/4275\n",
    "    r4 = -2.919989367357789e-02  # -2197/75240\n",
    "    r5 = 2.000000000000000e-02  # 1/50\n",
    "    r6 = 3.636363636363636e-02  # 2/55\n",
    "\n",
    "    c1 = 1.157407407407407e-01  # 25/216\n",
    "    c3 = 5.489278752436647e-01  # 1408/2565\n",
    "    c4 = 5.353313840155945e-01  # 2197/4104\n",
    "    c5 = -2.000000000000000e-01  # -1/5\n",
    "\n",
    "    t = b\n",
    "    x = x0\n",
    "    h = h_max\n",
    "\n",
    "    T = np.array([t])\n",
    "    X = np.array([x])\n",
    "\n",
    "    while t > a:\n",
    "        # Adjust last interval\n",
    "        if t - h < a:\n",
    "            h = t - a\n",
    "\n",
    "        k1 = h * f(x, t)\n",
    "        k2 = h * f(x + b21 * k1, t + a2 * h)\n",
    "        k3 = h * f(x + b31 * k1 + b32 * k2, t + a3 * h)\n",
    "        k4 = h * f(x + b41 * k1 + b42 * k2 + b43 * k3, t + a4 * h)\n",
    "        k5 = h * f(x + b51 * k1 + b52 * k2 + b53 * k3 + b54 * k4, t + a5 * h)\n",
    "        k6 = h * f(x + b61 * k1 + b62 * k2 + b63 * k3 + b64 * k4 + b65 * k5, t + a6 * h)\n",
    "\n",
    "        r = abs(r1 * k1 + r3 * k3 + r4 * k4 + r5 * k5 + r6 * k6) / h\n",
    " \n",
    "        if r <= tol:\n",
    "            t = t - h\n",
    "            x = x - (c1 * k1 + c3 * k3 + c4 * k4 + c5 * k5)\n",
    "            T = np.append(T, t)\n",
    "            X = np.append(X, [x], 0)\n",
    "\n",
    "        r = r if r > 0 else tol\n",
    "        h *= min(max(0.84 * (tol / r) ** 0.25, 0.1), 4.0)\n",
    "\n",
    "        if h > h_max:\n",
    "            h = h_max\n",
    "        elif h < h_min:\n",
    "            print(\"Error: minimum h exceeded. Procedure completed unsuccessfully. hmin = %1.2e\" % (h_min) )\n",
    "            break;\n",
    "\n",
    "    return (T, X)"
   ]
  },
  {
   "cell_type": "code",
   "execution_count": 19,
   "metadata": {},
   "outputs": [
    {
     "name": "stdout",
     "output_type": "stream",
     "text": [
      "t\tfunction x\tx\n",
      "3.00     6.0000     6.0000\n",
      "2.80     4.8568     4.8720\n",
      "2.60     4.0308     4.0560\n",
      "2.40     3.4735     3.5040\n",
      "2.20     3.1361     3.1680\n",
      "2.00     2.9698     3.0000\n",
      "1.80     2.9259     2.9520\n",
      "1.60     2.9558     2.9760\n",
      "1.40     3.0105     3.0240\n",
      "1.20     3.0415     3.0480\n",
      "1.00     3.0000     3.0000\n",
      "0.80     2.8373     2.8320\n",
      "0.61     2.5208     2.5126\n",
      "0.50     2.2581     2.2500\n"
     ]
    }
   ],
   "source": [
    "def test_func():\n",
    "    vx, vy = runge_kutta_fehlberg(f3, 0.5, 3, 6, 10e-9, 10e-3, 10e-10)\n",
    "    print(\"t\\tfunction x\\tx\")\n",
    "    for x, y in list(zip(vx, vy))[::20]:\n",
    "        print(\"%4.2f %10.4f %10.4f\" % (x, y, x**3 - 9/2 * x**2  + 13 * x /2))\n",
    "    x = vx[len(vx) - 1]\n",
    "    y = vy[len(vy) - 1]\n",
    "    print(\"%4.2f %10.4f %10.4f\" % (x, y, x**3 - 9/2 * x**2  + 13 * x /2))\n",
    "\n",
    "test_func()"
   ]
  },
  {
   "cell_type": "markdown",
   "metadata": {},
   "source": [
    "<h6>Wnioski</h6>\n",
    "Metoda adaptacyjnejpozwala z dokładnościa do dwóch miejsc po przecinku wyznaczyć wartość funkcji.<br>\n",
    "Ta metoda pozwala zwiększyć dokładność, ponieważ pewne parametry metody Rungego-Kutty można dobrac tak, aby w metodzie czwartego i piątego rzędu występowały te same wartości funkcji f.<br> \n",
    "W ostatnich latach znaleziono wiele par wzorów, które korzystają z tych samuych wartości funkcji f i które mają różny rząd(zwykle p i p+1)."
   ]
  },
  {
   "cell_type": "code",
   "execution_count": null,
   "metadata": {},
   "outputs": [],
   "source": []
  }
 ],
 "metadata": {
  "kernelspec": {
   "display_name": "Python 3",
   "language": "python",
   "name": "python3"
  },
  "language_info": {
   "codemirror_mode": {
    "name": "ipython",
    "version": 3
   },
   "file_extension": ".py",
   "mimetype": "text/x-python",
   "name": "python",
   "nbconvert_exporter": "python",
   "pygments_lexer": "ipython3",
   "version": "3.7.4"
  }
 },
 "nbformat": 4,
 "nbformat_minor": 2
}
